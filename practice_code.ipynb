{
  "nbformat": 4,
  "nbformat_minor": 0,
  "metadata": {
    "colab": {
      "provenance": [],
      "authorship_tag": "ABX9TyMrgL1QCA5vSGAAnJgy+jn+",
      "include_colab_link": true
    },
    "kernelspec": {
      "name": "python3",
      "display_name": "Python 3"
    },
    "language_info": {
      "name": "python"
    }
  },
  "cells": [
    {
      "cell_type": "markdown",
      "metadata": {
        "id": "view-in-github",
        "colab_type": "text"
      },
      "source": [
        "<a href=\"https://colab.research.google.com/github/idnanhussain/Pexelsclone/blob/main/practice_code.ipynb\" target=\"_parent\"><img src=\"https://colab.research.google.com/assets/colab-badge.svg\" alt=\"Open In Colab\"/></a>"
      ]
    },
    {
      "cell_type": "code",
      "execution_count": 24,
      "metadata": {
        "colab": {
          "base_uri": "https://localhost:8080/"
        },
        "id": "MY0yr84AWhSh",
        "outputId": "94524c38-077a-42ef-fe96-5488beb2b3eb"
      },
      "outputs": [
        {
          "output_type": "stream",
          "name": "stdout",
          "text": [
            "The car is a Mercedes and is the color Red\n"
          ]
        }
      ],
      "source": [
        "# OOP programming example usage\n",
        "\n",
        "class Car:\n",
        "  def __init__(self, brand, color):\n",
        "    self.brand = brand\n",
        "    self.color = color\n",
        "\n",
        "  def drives(self):\n",
        "      return(f\"The car is a {self.brand} and is the color {self.color}\")\n",
        "\n",
        "\n",
        "car_1 = Car(\"Mercedes\", \"Red\")\n",
        "\n",
        "\n",
        "print(car_1.drives())\n",
        "\n",
        "\n",
        "\n",
        "\n",
        "\n",
        "\n",
        "\n",
        "\n",
        "\n"
      ]
    },
    {
      "cell_type": "code",
      "source": [
        "# Creating a Function part 1\n",
        "def create_name (first, last):\n",
        "\n",
        "  first = first.capitalize()\n",
        "  last = last.capitalize()\n",
        "  return first + \" \" +last\n",
        "\n",
        "fullname = create_name (\"Denzel\", \"Washington\")\n",
        "\n",
        "print (fullname)\n",
        "\n",
        "\n",
        "\n",
        "\n",
        "\n"
      ],
      "metadata": {
        "colab": {
          "base_uri": "https://localhost:8080/"
        },
        "id": "-cOEYd2RrJxL",
        "outputId": "814aa1dd-64df-4d8d-bb3a-bdb46734e56f"
      },
      "execution_count": 54,
      "outputs": [
        {
          "output_type": "stream",
          "name": "stdout",
          "text": [
            "Denzel Washington\n"
          ]
        }
      ]
    },
    {
      "cell_type": "code",
      "source": [
        "# More OOP Examples with a car\n",
        "\n",
        "class Car:\n",
        "  def __init__(self, brand, color, speed):\n",
        "    self.brand = brand\n",
        "    self.color = color\n",
        "    self.speed = speed\n",
        "\n",
        "\n",
        "  def drives(self):\n",
        "      return (f\"The car is a {self.brand} and is the color {self.color} and its top speed is {self.speed}mph\")\n",
        "\n",
        "car_1 = Car(\"mercedes\", \"red\", 140)\n",
        "\n",
        "print (car_1.drives())\n",
        "\n",
        "\n",
        "\n",
        "\n",
        "\n",
        "\n",
        "\n",
        "\n"
      ],
      "metadata": {
        "colab": {
          "base_uri": "https://localhost:8080/"
        },
        "id": "YV_R9D3Kc-p4",
        "outputId": "08703aab-209a-4bf4-e5ef-c69ebb6c602c"
      },
      "execution_count": 36,
      "outputs": [
        {
          "output_type": "stream",
          "name": "stdout",
          "text": [
            "The car is a mercedes and is the color red and its top speed is 140mph\n"
          ]
        }
      ]
    },
    {
      "cell_type": "code",
      "source": [
        "# Creating an invoice with a function\n",
        "\n",
        "def Invoice_details (username, amount, due_date):\n",
        "\n",
        "  print(f\"Hello {username},\")\n",
        "  print(f\"You have an amount of £{amount:}, due for the {due_date}\")\n",
        "\n",
        "\n",
        "Invoice_details(\"Idnan\", 289.89, \"21/08\")\n",
        "\n",
        "\n",
        "\n",
        "\n",
        "\n"
      ],
      "metadata": {
        "colab": {
          "base_uri": "https://localhost:8080/"
        },
        "id": "4khU26YngI7M",
        "outputId": "0a58d8a4-e1b8-47e8-8b65-4577ef973ae8"
      },
      "execution_count": 63,
      "outputs": [
        {
          "output_type": "stream",
          "name": "stdout",
          "text": [
            "Hello Idnan,\n",
            "You have an amount of £289.89, due for the 21/08\n"
          ]
        }
      ]
    },
    {
      "cell_type": "code",
      "source": [
        "# If & else Statments\n",
        "\n",
        "age = int(input(\"Please enter your age \"))\n",
        "\n",
        "if age >= 18:\n",
        "    print(\"You are now signed up\")\n",
        "\n",
        "else:\n",
        "    print(\"You must be 18+ to sign up!\")\n",
        "\n",
        "\n",
        "\n",
        "\n",
        "\n",
        "\n",
        "\n",
        "\n"
      ],
      "metadata": {
        "colab": {
          "base_uri": "https://localhost:8080/"
        },
        "id": "szs4JUcYtt3L",
        "outputId": "fc9e34be-7f78-4f43-8103-a386b010f6e5"
      },
      "execution_count": 62,
      "outputs": [
        {
          "output_type": "stream",
          "name": "stdout",
          "text": [
            "Please enter your age 21\n",
            "You are now signed up\n"
          ]
        }
      ]
    },
    {
      "cell_type": "code",
      "source": [
        "echo \"# Python_work\" >> README.md\n",
        "git init\n",
        "git add README.md\n",
        "git commit -m \"first commit\"\n",
        "git branch -M main\n",
        "git remote add origin https://github.com/idnanhussain/Python_work.git\n",
        "git push -u origin main\n"
      ],
      "metadata": {
        "colab": {
          "base_uri": "https://localhost:8080/",
          "height": 105
        },
        "id": "QkRPx1xszZPM",
        "outputId": "04a68e75-fa1e-48f2-cbd3-ebc30f1c1b45"
      },
      "execution_count": 64,
      "outputs": [
        {
          "output_type": "error",
          "ename": "SyntaxError",
          "evalue": "invalid syntax (<ipython-input-64-4bf1125b4040>, line 1)",
          "traceback": [
            "\u001b[0;36m  File \u001b[0;32m\"<ipython-input-64-4bf1125b4040>\"\u001b[0;36m, line \u001b[0;32m1\u001b[0m\n\u001b[0;31m    echo \"# Python_work\" >> README.md\u001b[0m\n\u001b[0m         ^\u001b[0m\n\u001b[0;31mSyntaxError\u001b[0m\u001b[0;31m:\u001b[0m invalid syntax\n"
          ]
        }
      ]
    }
  ]
}